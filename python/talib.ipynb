{
 "cells": [
  {
   "cell_type": "code",
   "execution_count": 190,
   "metadata": {
    "collapsed": true
   },
   "outputs": [
    {
     "name": "stdout",
     "output_type": "stream",
     "text": [
      "Populating the interactive namespace from numpy and matplotlib\n"
     ]
    }
   ],
   "source": [
    "%pylab inline\n",
    "import requests\n",
    "import json\n",
    "import urllib2\n",
    "import pandas as pd\n",
    "import pandas.io.data\n",
    "import numpy as np\n",
    "import talib \n",
    "from talib import MA_Type\n",
    "# con.cursor().execute(\"DELETE FROM hist where Volume = 0\")\n",
    "stockList = pd.read_csv('/notebooks/chronoJob/bluechip', names=['id','name'], sep='_')\n",
    "url = 'http://192.168.100.74:3000/api/'\n",
    "geturl = url + 'hist/asc/' + stockList['id'][0]\n",
    "posturl = url + 'api/ta/json/' + stockList['id'][0]\n",
    "data = pd.read_csv(geturl, index_col='date', parse_dates=True)\n"
   ]
  },
  {
   "cell_type": "code",
   "execution_count": 176,
   "metadata": {
    "collapsed": true
   },
   "outputs": [],
   "source": [
    "open = np.array(data.open,float)\n",
    "high = np.array(data.high,float)\n",
    "low = np.array(data.low,float)\n",
    "close = np.array(data.close,float)\n",
    "volume = np.array(data.volume,double)"
   ]
  },
  {
   "cell_type": "code",
   "execution_count": 177,
   "metadata": {
    "collapsed": true
   },
   "outputs": [],
   "source": [
    "# price-transform-functions\n",
    "data['AVGPRICE'] = talib.AVGPRICE(open, high, low, close) # Average Price\n",
    "data['MEDPRICE'] = talib.MEDPRICE(high, low) # Median Price\n",
    "data['TYPPRICE'] = talib.TYPPRICE(high, low, close) # Typical Price\n",
    "data['WCLPRICE'] = talib.WCLPRICE(high, low, close) # Weighted Close Price"
   ]
  },
  {
   "cell_type": "code",
   "execution_count": 178,
   "metadata": {
    "collapsed": true
   },
   "outputs": [],
   "source": [
    "# cycle-indicator-functions\n",
    "data['HT_DCPERIOD'] = talib.HT_DCPERIOD(close) # Hilbert Transform - Dominant Cycle Period\n",
    "data['HT_DCPHASE'] = talib.HT_DCPHASE(close) # Hilbert Transform - Dominant Cycle Phase\n",
    "data['inphase'],data['quadrature'] = talib.HT_PHASOR(close) # Hilbert Transform - Phasor Components\n",
    "data['sine'],data['leadsine'] = talib.HT_SINE(close) # Hilbert Transform - SineWave\n",
    "data['HT_TRENDMODE'] = talib.HT_TRENDMODE(close) # Hilbert Transform - Trend vs Cycle Mode"
   ]
  },
  {
   "cell_type": "code",
   "execution_count": 179,
   "metadata": {
    "collapsed": true
   },
   "outputs": [],
   "source": [
    "# overlap-studies-functions\n",
    "data['upperband'],data['middleband'],data['lowerband'] = talib.BBANDS(close, timeperiod=20, nbdevup=2, nbdevdn=2, matype=0) #Bollinger Bands\n",
    "data['DEMA'] = talib.DEMA(close, timeperiod=30) #Double Exponential Moving Average\n",
    "data['EMA'] = talib.EMA(close, timeperiod=30) #Exponential Moving Average\n",
    "data['HT_TRENDLINE'] = talib.HT_TRENDLINE(close) #Hilbert Transform - Instantaneous Trendline\n",
    "data['KAMA'] = talib.KAMA(close, timeperiod=30) #Kaufman Adaptive Moving Average\n",
    "data['MA'] = talib.MA(close, timeperiod=30, matype=0) #Moving average\n",
    "# data['mama'],data['fama'] = talib.MAMA(close, fastlimit=0, slowlimit=0) #MESA Adaptive Moving Average\n",
    "# data['MAVP'] = talib.MAVP(close, minperiod=2, maxperiod=30, matype=0) #Moving average with variable period\n",
    "data['MIDPOINT'] = talib.MIDPOINT(close, timeperiod=14) #MidPoint over period\n",
    "data['MIDPRICE'] = talib.MIDPRICE(high, low, timeperiod=14) #Midpoint Price over period\n",
    "data['SAR'] = talib.SAR(high, low, acceleration=0, maximum=0) #Parabolic SAR\n",
    "data['SAREXT'] = talib.SAREXT(high, low, startvalue=0, offsetonreverse=0, accelerationinitlong=0, accelerationlong=0, accelerationmaxlong=0, accelerationinitshort=0, accelerationshort=0, accelerationmaxshort=0) #Parabolic SAR - Extended\n",
    "data['SMA'] = talib.SMA(close, timeperiod=30) #Simple Moving Average\n",
    "data['T3'] = talib.T3(close, timeperiod=5, vfactor=0) #Triple Exponential Moving Average (T3)\n",
    "data['TEMA'] = talib.TEMA(close, timeperiod=30) #Triple Exponential Moving Average\n",
    "data['TRIMA'] = talib.TRIMA(close, timeperiod=30) #Triangular Moving Average\n",
    "data['WMA'] = talib.WMA(close, timeperiod=30) #Weighted Moving Average"
   ]
  },
  {
   "cell_type": "code",
   "execution_count": 180,
   "metadata": {
    "collapsed": true
   },
   "outputs": [],
   "source": [
    "# volume-indicator-functions\n",
    "data['AD'] = talib.AD(high, low, close, volume) # Chaikin A/D Line\n",
    "data['ADOSC'] = talib.ADOSC(high, low, close, volume, fastperiod=3, slowperiod=10) # Chaikin A/D Oscillator\n",
    "data['OBV'] = talib.OBV(close,volume) # On Balance Volume"
   ]
  },
  {
   "cell_type": "code",
   "execution_count": 181,
   "metadata": {
    "collapsed": true
   },
   "outputs": [],
   "source": [
    "# momentum-indicator-functions\n",
    "data['ADX'] = talib.ADX(high, low, close, timeperiod=14) #Average Directional Movement Index\n",
    "data['ADXR'] = talib.ADXR(high, low, close, timeperiod=14) #Average Directional Movement Index Rating\n",
    "data['APO'] = talib.APO(close, fastperiod=12, slowperiod=26, matype=0) #Absolute Price Oscillator\n",
    "data['aroondown'],data['aroonup'] = talib.AROON(high, low, timeperiod=14) #Aroon\n",
    "data['AROONOSC'] = talib.AROONOSC(high, low, timeperiod=14) #Aroon Oscillator\n",
    "data['BOP'] = talib.BOP(open, high, low, close) #Balance Of Power\n",
    "data['CCI'] = talib.CCI(high, low, close, timeperiod=14) #Commodity Channel Index\n",
    "data['CMO'] = talib.CMO(close, timeperiod=14) #Chande Momentum Oscillator\n",
    "data['DX'] = talib.DX(high, low, close, timeperiod=14) #Directional Movement Index\n",
    "data['macd'],data['macdsignal'],data['macdhist'] = talib.MACD(close, fastperiod=12, slowperiod=26, signalperiod=9) #Moving Average Convergence/Divergence\n",
    "data['macdExt'],data['macdsignalExt'],data['macdhistExt'] = talib.MACDEXT(close, fastperiod=12, fastmatype=0, slowperiod=26, slowmatype=0, signalperiod=9, signalmatype=0) #MACD with controllable MA type\n",
    "data['macdFix'],data['macdsignalFix'],data['macdhistFix'] = talib.MACDFIX(close, signalperiod=9) #Moving Average Convergence/Divergence Fix 12/26\n",
    "data['MFI'] = talib.MFI(high, low, close, volume, timeperiod=14) #Money Flow Index\n",
    "data['MINUS_DI'] = talib.MINUS_DI(high, low, close, timeperiod=14) #Minus Directional Indicator\n",
    "data['MINUS_DM'] = talib.MINUS_DM(high, low, timeperiod=14) #Minus Directional Movement\n",
    "data['MOM'] = talib.MOM(close, timeperiod=10) #Momentum\n",
    "data['PLUS_DI'] = talib.PLUS_DI(high, low, close, timeperiod=14) #Plus Directional Indicator\n",
    "data['PLUS_DM'] = talib.PLUS_DM(high, low, timeperiod=14) #Plus Directional Movement\n",
    "data['PPO'] = talib.PPO(close, fastperiod=12, slowperiod=26, matype=0) #Percentage Price Oscillator\n",
    "data['ROC'] = talib.ROC(close, timeperiod=10) #Rate of change : ((price/prevPrice)-1)*100\n",
    "data['ROCP'] = talib.ROCP(close, timeperiod=10) #Rate of change Percentage: (price-prevPrice)/prevPrice\n",
    "data['ROCR'] = talib.ROCR(close, timeperiod=10) #Rate of change ratio: (price/prevPrice)\n",
    "data['ROCR100'] = talib.ROCR100(close, timeperiod=10) #Rate of change ratio 100 scale: (price/prevPrice)*100\n",
    "data['RSI'] = talib.RSI(close, timeperiod=14) #Relative Strength Index\n",
    "data['slowk'],data['slowd'] = talib.STOCH(high, low, close, fastk_period=5, slowk_period=3, slowk_matype=0, slowd_period=3, slowd_matype=0) #Stochastic\n",
    "data['fastk'],data['fastd'] = talib.STOCHF(high, low, close, fastk_period=5, fastd_period=3, fastd_matype=0) #Stochastic Fast\n",
    "data['fastkRsi'],data['fastdRsi'] = talib.STOCHRSI(close, timeperiod=14, fastk_period=5, fastd_period=3, fastd_matype=0) #Stochastic Relative Strength Index\n",
    "data['TRIX'] = talib.TRIX(close, timeperiod=30) #1-day Rate-Of-Change (ROC) of a Triple Smooth EMA\n",
    "data['ULTOSC'] = talib.ULTOSC(high, low, close, timeperiod1=7, timeperiod2=14, timeperiod3=28) #Ultimate Oscillator\n",
    "data['WILLR'] = talib.WILLR(high, low, close, timeperiod=14) #Williams' %R"
   ]
  },
  {
   "cell_type": "code",
   "execution_count": 182,
   "metadata": {
    "collapsed": true
   },
   "outputs": [],
   "source": [
    "# pattern-recognition-functions\n",
    "data['CDL2CROWS'] = talib.CDL2CROWS(open, high, low, close) # Two Crows\n",
    "data['CDL3BLACKCROWS'] = talib.CDL3BLACKCROWS(open, high, low, close) # Three Black Crows\n",
    "data['CDL3INSIDE'] = talib.CDL3INSIDE(open, high, low, close) # Three Inside Up/Down\n",
    "data['CDL3LINESTRIKE'] = talib.CDL3LINESTRIKE(open, high, low, close) # Three-Line Strike\n",
    "data['CDL3OUTSIDE'] = talib.CDL3OUTSIDE(open, high, low, close) # Three Outside Up/Down\n",
    "data['CDL3STARSINSOUTH'] = talib.CDL3STARSINSOUTH(open, high, low, close) # Three Stars In The South\n",
    "data['CDL3WHITESOLDIERS'] = talib.CDL3WHITESOLDIERS(open, high, low, close) # Three Advancing White Soldiers\n",
    "data['CDLABANDONEDBABY'] = talib.CDLABANDONEDBABY(open, high, low, close, penetration=0) # Abandoned Baby\n",
    "data['CDLADVANCEBLOCK'] = talib.CDLADVANCEBLOCK(open, high, low, close) # Advance Block\n",
    "data['CDLBELTHOLD'] = talib.CDLBELTHOLD(open, high, low, close) # Belt-hold\n",
    "data['CDLBREAKAWAY'] = talib.CDLBREAKAWAY(open, high, low, close) # Breakaway\n",
    "data['CDLCLOSINGMARUBOZU'] = talib.CDLCLOSINGMARUBOZU(open, high, low, close) # Closing Marubozu\n",
    "data['CDLCONCEALBABYSWALL'] = talib.CDLCONCEALBABYSWALL(open, high, low, close) # Concealing Baby Swallow\n",
    "data['CDLCOUNTERATTACK'] = talib.CDLCOUNTERATTACK(open, high, low, close) # Counterattack\n",
    "data['CDLDARKCLOUDCOVER'] = talib.CDLDARKCLOUDCOVER(open, high, low, close, penetration=0) # Dark Cloud Cover\n",
    "data['CDLDOJI'] = talib.CDLDOJI(open, high, low, close) # Doji\n",
    "data['CDLDOJISTAR'] = talib.CDLDOJISTAR(open, high, low, close) # Doji Star\n",
    "data['CDLDRAGONFLYDOJI'] = talib.CDLDRAGONFLYDOJI(open, high, low, close) # Dragonfly Doji\n",
    "data['CDLENGULFING'] = talib.CDLENGULFING(open, high, low, close) # Engulfing Pattern\n",
    "data['CDLEVENINGDOJISTAR'] = talib.CDLEVENINGDOJISTAR(open, high, low, close, penetration=0) # Evening Doji Star\n",
    "data['CDLEVENINGSTAR'] = talib.CDLEVENINGSTAR(open, high, low, close, penetration=0) # Evening Star\n",
    "data['CDLGAPSIDESIDEWHITE'] = talib.CDLGAPSIDESIDEWHITE(open, high, low, close) # Up/Down-gap side-by-side white lines\n",
    "data['CDLGRAVESTONEDOJI'] = talib.CDLGRAVESTONEDOJI(open, high, low, close) # Gravestone Doji\n",
    "data['CDLHAMMER'] = talib.CDLHAMMER(open, high, low, close) # Hammer\n",
    "data['CDLHANGINGMAN'] = talib.CDLHANGINGMAN(open, high, low, close) # Hanging Man\n",
    "data['CDLHARAMI'] = talib.CDLHARAMI(open, high, low, close) # Harami Pattern\n",
    "data['CDLHARAMICROSS'] = talib.CDLHARAMICROSS(open, high, low, close) # Harami Cross Pattern\n",
    "data['CDLHIGHWAVE'] = talib.CDLHIGHWAVE(open, high, low, close) # High-Wave Candle\n",
    "data['CDLHIKKAKE'] = talib.CDLHIKKAKE(open, high, low, close) # Hikkake Pattern\n",
    "data['CDLHIKKAKEMOD'] = talib.CDLHIKKAKEMOD(open, high, low, close) # Modified Hikkake Pattern\n",
    "data['CDLHOMINGPIGEON'] = talib.CDLHOMINGPIGEON(open, high, low, close) # Homing Pigeon\n",
    "data['CDLIDENTICAL3CROWS'] = talib.CDLIDENTICAL3CROWS(open, high, low, close) # Identical Three Crows\n",
    "data['CDLINNECK'] = talib.CDLINNECK(open, high, low, close) # In-Neck Pattern\n",
    "data['CDLINVERTEDHAMMER'] = talib.CDLINVERTEDHAMMER(open, high, low, close) # Inverted Hammer\n",
    "data['CDLKICKING'] = talib.CDLKICKING(open, high, low, close) # Kicking\n",
    "data['CDLKICKINGBYLENGTH'] = talib.CDLKICKINGBYLENGTH(open, high, low, close) # Kicking - bull/bear determined by the longer marubozu\n",
    "data['CDLLADDERBOTTOM'] = talib.CDLLADDERBOTTOM(open, high, low, close) # Ladder Bottom\n",
    "data['CDLLONGLEGGEDDOJI'] = talib.CDLLONGLEGGEDDOJI(open, high, low, close) # Long Legged Doji\n",
    "data['CDLLONGLINE'] = talib.CDLLONGLINE(open, high, low, close) # Long Line Candle\n",
    "data['CDLMARUBOZU'] = talib.CDLMARUBOZU(open, high, low, close) # Marubozu\n",
    "data['CDLMATCHINGLOW'] = talib.CDLMATCHINGLOW(open, high, low, close) # Matching Low\n",
    "data['CDLMATHOLD'] = talib.CDLMATHOLD(open, high, low, close, penetration=0) # Mat Hold\n",
    "data['CDLMORNINGDOJISTAR'] = talib.CDLMORNINGDOJISTAR(open, high, low, close, penetration=0) # Morning Doji Star\n",
    "data['CDLMORNINGSTAR'] = talib.CDLMORNINGSTAR(open, high, low, close, penetration=0) # Morning Star\n",
    "data['CDLONNECK'] = talib.CDLONNECK(open, high, low, close) # On-Neck Pattern\n",
    "data['CDLPIERCING'] = talib.CDLPIERCING(open, high, low, close) # Piercing Pattern\n",
    "data['CDLRICKSHAWMAN'] = talib.CDLRICKSHAWMAN(open, high, low, close) # Rickshaw Man\n",
    "data['CDLRISEFALL3METHODS'] = talib.CDLRISEFALL3METHODS(open, high, low, close) # Rising/Falling Three Methods\n",
    "data['CDLSEPARATINGLINES'] = talib.CDLSEPARATINGLINES(open, high, low, close) # Separating Lines\n",
    "data['CDLSHOOTINGSTAR'] = talib.CDLSHOOTINGSTAR(open, high, low, close) # Shooting Star\n",
    "data['CDLSHORTLINE'] = talib.CDLSHORTLINE(open, high, low, close) # Short Line Candle\n",
    "data['CDLSPINNINGTOP'] = talib.CDLSPINNINGTOP(open, high, low, close) # Spinning Top\n",
    "data['CDLSTALLEDPATTERN'] = talib.CDLSTALLEDPATTERN(open, high, low, close) # Stalled Pattern\n",
    "data['CDLSTICKSANDWICH'] = talib.CDLSTICKSANDWICH(open, high, low, close) # Stick Sandwich\n",
    "data['CDLTAKURI'] = talib.CDLTAKURI(open, high, low, close) # Takuri (Dragonfly Doji with very long lower shadow)\n",
    "data['CDLTASUKIGAP'] = talib.CDLTASUKIGAP(open, high, low, close) # Tasuki Gap\n",
    "data['CDLTHRUSTING'] = talib.CDLTHRUSTING(open, high, low, close) # Thrusting Pattern\n",
    "data['CDLTRISTAR'] = talib.CDLTRISTAR(open, high, low, close) # Tristar Pattern\n",
    "data['CDLUNIQUE3RIVER'] = talib.CDLUNIQUE3RIVER(open, high, low, close) # Unique 3 River\n",
    "data['CDLUPSIDEGAP2CROWS'] = talib.CDLUPSIDEGAP2CROWS(open, high, low, close) # Upside Gap Two Crows\n",
    "data['CDLXSIDEGAP3METHODS'] = talib.CDLXSIDEGAP3METHODS(open, high, low, close) # Upside/Downside Gap Three Methods"
   ]
  },
  {
   "cell_type": "code",
   "execution_count": 183,
   "metadata": {
    "collapsed": true
   },
   "outputs": [],
   "source": [
    "# data['ACOS'] = talib.ACOS(close) # Vector Trigonometric ACos\n",
    "# data['ASIN'] = talib.ASIN(close) # Vector Trigonometric ASin\n",
    "# data['ATAN'] = talib.ATAN(close) # Vector Trigonometric ATan\n",
    "# data['CEIL'] = talib.CEIL(close) # Vector Ceil\n",
    "# data['COS'] = talib.COS(close) # Vector Trigonometric Cos\n",
    "# data['COSH'] = talib.COSH(close) # Vector Trigonometric Cosh\n",
    "# data['EXP'] = talib.EXP(close) # Vector Arithmetic Exp\n",
    "# data['FLOOR'] = talib.FLOOR(close) # Vector Floor\n",
    "# data['LN'] = talib.LN(close) # Vector Log Natural\n",
    "# data['LOG10'] = talib.LOG10(close) # Vector Log10\n",
    "# data['SIN'] = talib.SIN(close) # Vector Trigonometric Sin\n",
    "# data['SINH'] = talib.SINH(close) # Vector Trigonometric Sinh\n",
    "# data['SQRT'] = talib.SQRT(close) # Vector Square Root\n",
    "# data['TAN'] = talib.TAN(close) # Vector Trigonometric Tan\n",
    "# data['TANH'] = talib.TANH(close) # Vector Trigonometric Tanh"
   ]
  },
  {
   "cell_type": "code",
   "execution_count": 184,
   "metadata": {
    "collapsed": true
   },
   "outputs": [],
   "source": [
    "# math-operator-functions\n",
    "# data['ADD'] = talib.ADD(high, low) # Vector Arithmetic Add\n",
    "# data['DIV'] = talib.DIV(high, low) # Vector Arithmetic Div\n",
    "# data['MAX'] = talib.MAX(close, timeperiod=30) # Highest value over a specified period\n",
    "# data['MAXINDEX'] = talib.MAXINDEX(close, timeperiod=30) # Index of highest value over a specified period\n",
    "# data['MIN'] = talib.MIN(close, timeperiod=30) # Lowest value over a specified period\n",
    "# data['MININDEX'] = talib.MININDEX(close, timeperiod=30) # Index of lowest value over a specified period\n",
    "data['minv'],data['maxv'] = talib.MINMAX(close, timeperiod=30) # Lowest and highest values over a specified period\n",
    "data['minidx'],data['maxidx'] = talib.MINMAXINDEX(close, timeperiod=30) # Indexes of lowest and highest values over a specified period\n",
    "# data['MULT'] = talib.MULT(high, low) # Vector Arithmetic Mult\n",
    "# data['SUB'] = talib.SUB(high, low) # Vector Arithmetic Substraction\n",
    "# data['SUM'] = talib.SUM(close, timeperiod=30) # Summation"
   ]
  },
  {
   "cell_type": "code",
   "execution_count": 185,
   "metadata": {
    "collapsed": true
   },
   "outputs": [],
   "source": [
    "# volatility-indicator-functions\n",
    "data['ATR'] = talib.ATR(high, low, close, timeperiod=14) # Average True Range\n",
    "data['TRANGE'] = talib.TRANGE(high, low, close) # True Range"
   ]
  },
  {
   "cell_type": "code",
   "execution_count": 186,
   "metadata": {
    "collapsed": false
   },
   "outputs": [
    {
     "data": {
      "text/plain": [
       "(406, 144)"
      ]
     },
     "execution_count": 186,
     "metadata": {},
     "output_type": "execute_result"
    }
   ],
   "source": [
    "df = data.dropna(thresh=144)\n",
    "payload = df.reset_index().to_json(orient='records')\n",
    "payload = json.loads(payload)\n",
    "df.shape"
   ]
  },
  {
   "cell_type": "code",
   "execution_count": 187,
   "metadata": {
    "collapsed": false
   },
   "outputs": [],
   "source": [
    "req = urllib2.Request(posturl)\n",
    "req.add_header('Content-Type', 'application/json')\n",
    "\n",
    "response = urllib2.urlopen(req, json.dumps(payload))"
   ]
  },
  {
   "cell_type": "code",
   "execution_count": 187,
   "metadata": {
    "collapsed": false
   },
   "outputs": [],
   "source": []
  }
 ],
 "metadata": {
  "kernelspec": {
   "display_name": "Python 2",
   "language": "python",
   "name": "python2"
  },
  "language_info": {
   "codemirror_mode": {
    "name": "ipython",
    "version": 2
   },
   "file_extension": ".py",
   "mimetype": "text/x-python",
   "name": "python",
   "nbconvert_exporter": "python",
   "pygments_lexer": "ipython2",
   "version": "2.7.6"
  }
 },
 "nbformat": 4,
 "nbformat_minor": 0
}
