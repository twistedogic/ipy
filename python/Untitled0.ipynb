{
 "cells": [
  {
   "cell_type": "code",
   "execution_count": 7,
   "metadata": {
    "collapsed": false
   },
   "outputs": [
    {
     "name": "stdout",
     "output_type": "stream",
     "text": [
      "Populating the interactive namespace from numpy and matplotlib\n"
     ]
    },
    {
     "name": "stderr",
     "output_type": "stream",
     "text": [
      "WARNING: pylab import has clobbered these variables: ['test', 'record']\n",
      "`%matplotlib` prevents importing * from pylab and numpy\n"
     ]
    }
   ],
   "source": [
    "%pylab inline\n",
    "import requests\n",
    "import json\n",
    "import urllib2\n",
    "import pandas as pd\n",
    "import pandas.io.data\n",
    "import numpy as np\n",
    "import talib \n",
    "\n",
    "import pytz\n",
    "from datetime import datetime\n",
    "\n",
    "import zipline as zp\n",
    "\n",
    "from zipline.finance.slippage import FixedSlippage\n",
    "from zipline.api import order_target, record, symbol, history, add_history\n",
    "# con.cursor().execute(\"DELETE FROM hist where Volume = 0\")\n",
    "url = 'http://10.0.0.124:3000/api/'\n",
    "geturl = url + 'ta/desc/' + '0001.HK'\n",
    "posturl = url + 'api/ta/json/' + '0001.HK'\n",
    "data = pd.read_csv(geturl, index_col='date', parse_dates=True)"
   ]
  },
  {
   "cell_type": "code",
   "execution_count": 10,
   "metadata": {
    "collapsed": false
   },
   "outputs": [
    {
     "data": {
      "text/plain": [
       "array(['ad', 'adosc', 'adx', 'adxr', 'apo', 'aroondown', 'aroonosc',\n",
       "       'aroonup', 'atr', 'avgprice', 'bop', 'cci', 'cdl2crows',\n",
       "       'cdl3blackcrows', 'cdl3inside', 'cdl3linestrike', 'cdl3outside',\n",
       "       'cdl3starsinsouth', 'cdl3whitesoldiers', 'cdlabandonedbaby',\n",
       "       'cdladvanceblock', 'cdlbelthold', 'cdlbreakaway',\n",
       "       'cdlclosingmarubozu', 'cdlconcealbabyswall', 'cdlcounterattack',\n",
       "       'cdldarkcloudcover', 'cdldoji', 'cdldojistar', 'cdldragonflydoji',\n",
       "       'cdlengulfing', 'cdleveningdojistar', 'cdleveningstar',\n",
       "       'cdlgapsidesidewhite', 'cdlgravestonedoji', 'cdlhammer',\n",
       "       'cdlhangingman', 'cdlharami', 'cdlharamicross', 'cdlhighwave',\n",
       "       'cdlhikkake', 'cdlhikkakemod', 'cdlhomingpigeon',\n",
       "       'cdlidentical3crows', 'cdlinneck', 'cdlinvertedhammer',\n",
       "       'cdlkicking', 'cdlkickingbylength', 'cdlladderbottom',\n",
       "       'cdllongleggeddoji', 'cdllongline', 'cdlmarubozu', 'cdlmatchinglow',\n",
       "       'cdlmathold', 'cdlmorningdojistar', 'cdlmorningstar', 'cdlonneck',\n",
       "       'cdlpiercing', 'cdlrickshawman', 'cdlrisefall3methods',\n",
       "       'cdlseparatinglines', 'cdlshootingstar', 'cdlshortline',\n",
       "       'cdlspinningtop', 'cdlstalledpattern', 'cdlsticksandwich',\n",
       "       'cdltakuri', 'cdltasukigap', 'cdlthrusting', 'cdltristar',\n",
       "       'cdlunique3river', 'cdlupsidegap2crows', 'cdlxsidegap3methods',\n",
       "       'close', 'cmo', 'dema', 'dx', 'ema', 'fastd', 'fastdrsi', 'fastk',\n",
       "       'fastkrsi', 'high', 'ht_dcperiod', 'ht_dcphase', 'ht_trendline',\n",
       "       'ht_trendmode', 'inphase', 'kama', 'leadsine', 'low', 'lowerband',\n",
       "       'ma', 'macd', 'macdext', 'macdfix', 'macdhist', 'macdhistext',\n",
       "       'macdhistfix', 'macdsignal', 'macdsignalext', 'macdsignalfix',\n",
       "       'maxidx', 'maxv', 'medprice', 'mfi', 'middleband', 'midpoint',\n",
       "       'midprice', 'minidx', 'minus_di', 'minus_dm', 'minv', 'mom', 'obv',\n",
       "       'open', 'plus_di', 'plus_dm', 'ppo', 'quadrature', 'roc', 'rocp',\n",
       "       'rocr', 'rocr100', 'rsi', 'sar', 'sarext', 'sine', 'slowd', 'slowk',\n",
       "       'sma', 'symbol', 't3', 'tema', 'trange', 'trima', 'trix',\n",
       "       'typprice', 'ultosc', 'upperband', 'volume', 'wclprice', 'willr',\n",
       "       'wma'], dtype=object)"
      ]
     },
     "execution_count": 10,
     "metadata": {},
     "output_type": "execute_result"
    }
   ],
   "source": [
    "data.columns.values"
   ]
  },
  {
   "cell_type": "code",
   "execution_count": 12,
   "metadata": {
    "collapsed": false
   },
   "outputs": [
    {
     "data": {
      "text/plain": [
       "date\n",
       "2015-01-23    16.025640\n",
       "2015-01-22    12.659236\n",
       "2015-01-21    11.675933\n",
       "2015-01-20    11.023623\n",
       "2015-01-19     7.592024\n",
       "2015-01-16     7.137434\n",
       "2015-01-15     9.439754\n",
       "2015-01-14     9.370200\n",
       "2015-01-13     8.883827\n",
       "2015-01-12    10.153846\n",
       "2015-01-09    -3.926097\n",
       "2015-01-08    -3.161141\n",
       "2015-01-07    -2.779923\n",
       "2015-01-06    -0.548160\n",
       "2015-01-05     3.574265\n",
       "...\n",
       "2013-06-28     0.477555\n",
       "2013-06-27     0.387597\n",
       "2013-06-26     0.489237\n",
       "2013-06-25    -2.034884\n",
       "2013-06-24    -3.176131\n",
       "2013-06-21    -5.009452\n",
       "2013-06-20    -3.497164\n",
       "2013-06-19    -2.573529\n",
       "2013-06-18    -0.549954\n",
       "2013-06-17    -1.092896\n",
       "2013-06-14    -4.818182\n",
       "2013-06-13    -7.443946\n",
       "2013-06-11   -10.035212\n",
       "2013-06-10    -8.348135\n",
       "2013-06-07    -7.971656\n",
       "Name: roc, Length: 404"
      ]
     },
     "execution_count": 12,
     "metadata": {},
     "output_type": "execute_result"
    }
   ],
   "source": [
    "benchmarkRet = data['roc']\n",
    "benchmarkRet"
   ]
  },
  {
   "cell_type": "code",
   "execution_count": 9,
   "metadata": {
    "collapsed": false
   },
   "outputs": [
    {
     "data": {
      "text/plain": [
       "'AAPL'"
      ]
     },
     "execution_count": 9,
     "metadata": {},
     "output_type": "execute_result"
    }
   ],
   "source": [
    "test"
   ]
  },
  {
   "cell_type": "code",
   "execution_count": 13,
   "metadata": {
    "collapsed": false
   },
   "outputs": [
    {
     "name": "stdout",
     "output_type": "stream",
     "text": [
      "AAPL\n",
      "Traceback (most recent call last):\n",
      "  File \"/usr/local/bin/run_algo.py\", line 24, in <module>\n",
      "    run_pipeline(print_algo=True, **parsed)\n",
      "  File \"/usr/local/lib/python3.4/dist-packages/zipline/utils/cli.py\", line 172, in run_pipeline\n",
      "    with open(algo_fname, 'r') as fd:\n",
      "TypeError: invalid file: None\n"
     ]
    }
   ],
   "source": [
    "# !run_algo.py"
   ]
  },
  {
   "cell_type": "code",
   "execution_count": null,
   "metadata": {
    "collapsed": true
   },
   "outputs": [],
   "source": []
  }
 ],
 "metadata": {
  "kernelspec": {
   "display_name": "Python 2",
   "name": "python2"
  },
  "language_info": {
   "codemirror_mode": {
    "name": "ipython",
    "version": 2
   },
   "file_extension": ".py",
   "mimetype": "text/x-python",
   "name": "python",
   "nbconvert_exporter": "python",
   "pygments_lexer": "ipython2",
   "version": "2.7.6"
  }
 },
 "nbformat": 4,
 "nbformat_minor": 0
}
