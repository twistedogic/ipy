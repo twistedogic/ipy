{
 "cells": [
  {
   "cell_type": "code",
   "execution_count": 1,
   "metadata": {
    "collapsed": false
   },
   "outputs": [
    {
     "name": "stdout",
     "output_type": "stream",
     "text": [
      "Populating the interactive namespace from numpy and matplotlib\n"
     ]
    }
   ],
   "source": [
    "%pylab inline\n",
    "import numpy as np\n",
    "import pandas as pd\n",
    "import talib\n",
    "import datetime\n",
    "from crate import client\n",
    "import matplotlib.pyplot as plt\n",
    "from scipy.fftpack import fft, ifft"
   ]
  },
  {
   "cell_type": "code",
   "execution_count": 2,
   "metadata": {
    "collapsed": false
   },
   "outputs": [],
   "source": [
    "crate_host = ['http://10.0.0.130:4200','http://10.0.0.127:4200','http://10.0.0.131:4200']\n",
    "connection = client.connect(crate_host,error_trace=True)\n",
    "cursor = connection.cursor()\n",
    "cursor.execute(\"SELECT id FROM fundamentals WHERE option = 'true'\")\n",
    "output = cursor.fetchall()\n",
    "connection.close()"
   ]
  },
  {
   "cell_type": "code",
   "execution_count": 3,
   "metadata": {
    "collapsed": false
   },
   "outputs": [],
   "source": [
    "df = pd.read_csv(\"http://api-twistedogic01.rhcloud.com/api/hist/0005.HK\", index_col='Date', parse_dates=True)\n",
    "data = df.drop(df.tail(1).index)\n",
    "open = np.array(data.Open,float)\n",
    "high = np.array(data.High,float)\n",
    "low = np.array(data.Low,float)\n",
    "close = np.array(data.Close,float)\n",
    "volume = np.array(data.Volume,double)\n",
    "data['Log_Ret'] = np.log(data['Close']/data['Close'].shift(1))\n",
    "data['Volatility'] = pd.rolling_std(data['Log_Ret'],window=30) * np.sqrt(30)\n",
    "data['rise'] = open - close\n",
    "data['10d'] = talib.SMA(close, timeperiod=10) #Simple Moving Average\n",
    "data['20d'] = talib.SMA(close, timeperiod=20) #Simple Moving Average\n",
    "data['50d'] = talib.SMA(close, timeperiod=50) #Simple Moving Average\n",
    "data['100d'] = talib.SMA(close, timeperiod=100) #Simple Moving Average\n",
    "data['200d'] = talib.SMA(close, timeperiod=200) #Simple Moving Average\n",
    "data['250d'] = talib.SMA(close, timeperiod=250) #Simple Moving Average\n",
    "data['upperband'],data['middleband'],data['lowerband'] = talib.BBANDS(close, timeperiod=20, nbdevup=2, nbdevdn=2, matype=0) #Bollinger Bands\n",
    "data['ptcb'] = data['upperband'] - data['lowerband']\n",
    "data['ADX'] = talib.ADX(high, low, close, timeperiod=14) #Average Directional Movement Index\n",
    "data['ROCP'] = talib.ROCP(close, timeperiod=30) #Rate of change Percentage: (price-prevPrice)/prevPrice\n",
    "data['RSI'] = talib.RSI(close, timeperiod=14) #Relative Strength Index\n",
    "data['slowk'],data['slowd'] = talib.STOCH(high, low, close, fastk_period=5, slowk_period=3, slowk_matype=0, slowd_period=3, slowd_matype=0) #Stochastic\n",
    "data['fastk'],data['fastd'] = talib.STOCHF(high, low, close, fastk_period=5, fastd_period=3, fastd_matype=0) #Stochastic Fast\n",
    "data['macd'],data['macdsignal'],data['macdhist'] = talib.MACD(close, fastperiod=12, slowperiod=26, signalperiod=9) #Moving Average Convergence/Divergence\n",
    "data['ATR'] = talib.ATR(high, low, close, timeperiod=14) # Average True Range\n",
    "data['HT_DCPERIOD'] = talib.HT_DCPERIOD(close) # Hilbert Transform - Dominant Cycle Period\n",
    "data['HT_DCPHASE'] = talib.HT_DCPHASE(close) # Hilbert Transform - Dominant Cycle Phase\n",
    "data['inphase'],data['quadrature'] = talib.HT_PHASOR(close) # Hilbert Transform - Phasor Components\n",
    "data['sine'],data['leadsine'] = talib.HT_SINE(close) # Hilbert Transform - SineWave\n",
    "data['HT_TRENDMODE'] = talib.HT_TRENDMODE(close) # Hilbert Transform - Trend vs Cycle Mode\n",
    "data['BETA'] = talib.BETA(high, low, timeperiod=5) # Beta\n",
    "# data['minv'],data['maxv'] = talib.MINMAX(close, timeperiod=30) # Lowest and highest values over a specified period\n",
    "# data['minidx'],data['maxidx'] = talib.MINMAXINDEX(close, timeperiod=30) # Indexes of lowest and highest values over a specified period\n",
    "# data['CORREL'] = talib.CORREL(high, low, timeperiod=30) # Pearson's Correlation Coefficient (r)\n",
    "# data['LINEARREG'] = talib.LINEARREG(close, timeperiod=14) # Linear Regression\n",
    "# data['LINEARREG_ANGLE'] = talib.LINEARREG_ANGLE(close, timeperiod=14) # Linear Regression Angle\n",
    "# data['LINEARREG_INTERCEPT'] = talib.LINEARREG_INTERCEPT(close, timeperiod=14) # Linear Regression Intercept\n",
    "# data['LINEARREG_SLOPE'] = talib.LINEARREG_SLOPE(close, timeperiod=14) # Linear Regression Slope\n",
    "# data['STDDEV'] = talib.STDDEV(close, timeperiod=5, nbdev=1) # Standard Deviation\n",
    "data['TSF'] = talib.TSF(close, timeperiod=14) # Time Series Forecast\n",
    "data['VAR'] = talib.VAR(close, timeperiod=5, nbdev=1) # Variance\n",
    "data['benchmark'] = np.log(data['Close']/data['Close'].shift(1))\n",
    "data = data.dropna(thresh=data.shape[1])"
   ]
  },
  {
   "cell_type": "code",
   "execution_count": 5,
   "metadata": {
    "collapsed": false
   },
   "outputs": [
    {
     "name": "stderr",
     "output_type": "stream",
     "text": [
      "/opt/miniconda/lib/python2.7/site-packages/IPython/kernel/__main__.py:3: SettingWithCopyWarning: \n",
      "A value is trying to be set on a copy of a slice from a DataFrame.\n",
      "Try using .loc[row_indexer,col_indexer] = value instead\n",
      "\n",
      "See the the caveats in the documentation: http://pandas.pydata.org/pandas-docs/stable/indexing.html#indexing-view-versus-copy\n",
      "  app.launch_new_instance()\n",
      "/opt/miniconda/lib/python2.7/site-packages/IPython/kernel/__main__.py:4: SettingWithCopyWarning: \n",
      "A value is trying to be set on a copy of a slice from a DataFrame.\n",
      "Try using .loc[row_indexer,col_indexer] = value instead\n",
      "\n",
      "See the the caveats in the documentation: http://pandas.pydata.org/pandas-docs/stable/indexing.html#indexing-view-versus-copy\n"
     ]
    }
   ],
   "source": [
    "tf = data.tail(300)\n",
    "newClose = np.array(tf.Close,float)\n",
    "tf['minidx'],tf['maxidx'] = talib.MINMAXINDEX(newClose, timeperiod=30)\n",
    "tf['minv'],tf['maxv'] = talib.MINMAX(newClose, timeperiod=30)"
   ]
  },
  {
   "cell_type": "code",
   "execution_count": 66,
   "metadata": {
    "collapsed": false
   },
   "outputs": [
    {
     "data": {
      "text/plain": [
       "<matplotlib.axes._subplots.AxesSubplot at 0x7f47287a5b50>"
      ]
     },
     "execution_count": 66,
     "metadata": {},
     "output_type": "execute_result"
    },
    {
     "data": {
      "image/png": "[encoded data removed]",
      "text/plain": [
       "<matplotlib.figure.Figure at 0x7f4728941290>"
      ]
     },
     "metadata": {},
     "output_type": "display_data"
    }
   ],
   "source": [
    "test = tf['Close'] - tf['minv']\n",
    "tf['Close'].plot(grid=True,figsize=(10,5))"
   ]
  },
  {
   "cell_type": "code",
   "execution_count": 6,
   "metadata": {
    "collapsed": false
   },
   "outputs": [
    {
     "ename": "AttributeError",
     "evalue": "'Series' object has no attribute 'price'",
     "output_type": "error",
     "traceback": [
      "\u001b[1;31m---------------------------------------------------------------------------\u001b[0m",
      "\u001b[1;31mAttributeError\u001b[0m                            Traceback (most recent call last)",
      "\u001b[1;32m<ipython-input-6-00e8f76c3b10>\u001b[0m in \u001b[0;36m<module>\u001b[1;34m()\u001b[0m\n\u001b[1;32m----> 1\u001b[1;33m \u001b[0mtf\u001b[0m\u001b[1;33m[\u001b[0m\u001b[1;34m'Close'\u001b[0m\u001b[1;33m]\u001b[0m\u001b[1;33m.\u001b[0m\u001b[0mprice\u001b[0m\u001b[1;33m\u001b[0m\u001b[0m\n\u001b[0m",
      "\u001b[1;32m/opt/miniconda/lib/python2.7/site-packages/pandas/core/generic.pyc\u001b[0m in \u001b[0;36m__getattr__\u001b[1;34m(self, name)\u001b[0m\n\u001b[0;32m   2081\u001b[0m                 \u001b[1;32mreturn\u001b[0m \u001b[0mself\u001b[0m\u001b[1;33m[\u001b[0m\u001b[0mname\u001b[0m\u001b[1;33m]\u001b[0m\u001b[1;33m\u001b[0m\u001b[0m\n\u001b[0;32m   2082\u001b[0m             raise AttributeError(\"'%s' object has no attribute '%s'\" %\n\u001b[1;32m-> 2083\u001b[1;33m                                  (type(self).__name__, name))\n\u001b[0m\u001b[0;32m   2084\u001b[0m \u001b[1;33m\u001b[0m\u001b[0m\n\u001b[0;32m   2085\u001b[0m     \u001b[1;32mdef\u001b[0m \u001b[0m__setattr__\u001b[0m\u001b[1;33m(\u001b[0m\u001b[0mself\u001b[0m\u001b[1;33m,\u001b[0m \u001b[0mname\u001b[0m\u001b[1;33m,\u001b[0m \u001b[0mvalue\u001b[0m\u001b[1;33m)\u001b[0m\u001b[1;33m:\u001b[0m\u001b[1;33m\u001b[0m\u001b[0m\n",
      "\u001b[1;31mAttributeError\u001b[0m: 'Series' object has no attribute 'price'"
     ]
    }
   ],
   "source": [
    "tf['Close'].price"
   ]
  }
 ],
 "metadata": {
  "kernelspec": {
   "display_name": "Python 2",
   "language": "python",
   "name": "python2"
  },
  "language_info": {
   "codemirror_mode": {
    "name": "ipython",
    "version": 2
   },
   "file_extension": ".py",
   "mimetype": "text/x-python",
   "name": "python",
   "nbconvert_exporter": "python",
   "pygments_lexer": "ipython2",
   "version": "2.7.9"
  }
 },
 "nbformat": 4,
 "nbformat_minor": 0
}
